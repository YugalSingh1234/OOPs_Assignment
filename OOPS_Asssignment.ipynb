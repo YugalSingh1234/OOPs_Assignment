{
  "cells": [
    {
      "cell_type": "markdown",
      "source": [
        "## Python OOPs Questions\n",
        "\n",
        "\n",
        "ANSWER.1)\n",
        " Object-Oriented Programming (OOP) is a programming paradigm that organizes software design around data, or objects, rather than functions and logic. An object is an instance of a class, which serves as a blueprint defining the properties (attributes) and behaviors (methods) of that object. OOP is based on several key principles, including encapsulation, which restricts direct access to an object’s internal state and encourages interaction through public methods; inheritance, which allows one class to inherit the characteristics of another, promoting code reuse; polymorphism, which enables objects to be treated as instances of their parent class while behaving differently based on their actual class; and abstraction, which simplifies complex systems by exposing only the necessary parts of an object while hiding the implementation details.\n",
        "\n",
        "ANSWER.2)\n",
        "In Object-Oriented Programming (OOP), a class is a blueprint or template for creating objects. It defines a set of attributes (also called properties or fields) and methods (functions) that the objects created from the class will have. A class does not hold actual data itself, but rather describes how the data and behavior of its objects should be structured. For example, if you have a class called Car, it might define attributes like color, make, and model, and methods like start() or brake().\n",
        "\n",
        "ANSWER.3)\n",
        "In Object-Oriented Programming (OOP), an object is an instance of a class. It represents a specific entity that has both state (defined by its attributes or properties) and behavior (defined by its methods or functions). While a class serves as a blueprint, an object is the actual realization of that blueprint in memory. For example, if you have a class called Car, you can create multiple objects like car1 and car2, each with their own values for attributes such as color, make, and speed. These objects can also perform actions like start() or brake() using the methods defined in the class.\n",
        "\n",
        "ANSWER.4)\n",
        "Abstraction and encapsulation are two important concepts in Object-Oriented Programming that often work together but serve different purposes.\n",
        "Abstraction is the process of hiding unnecessary details and showing only the essential features of an object or system. It simplifies complexity by providing a clear and focused interface to the user, allowing them to interact with an object without needing to understand its inner workings. For example, when you use a method like print() in a program, you don’t need to know how it sends data to the screen—just that it does.\n",
        "On the other hand, encapsulation is the practice of bundling data (attributes) and methods (functions) that operate on that data into a single unit, usually a class, and restricting direct access to some of the object’s components. This is typically done using access modifiers like private or public, which help protect the object’s internal state and maintain control over how data is accessed or modified.\n",
        "\n",
        "ANSWER.5)\n",
        "Dunder methods in Python, short for \"double underscore methods\", are special methods that have double underscores (__) before and after their names, like __init__, __str__, or __len__. These methods are also known as magic methods or special methods, and they allow you to define or customize the behavior of objects for built-in operations\n",
        "\n",
        "ANSWER.6)\n",
        "Inheritance in Object-Oriented Programming (OOP) is a mechanism that allows a new class (called the child class or subclass) to acquire the properties and behaviors (attributes and methods) of an existing class (called the parent class or superclass). This concept supports code reuse, as common functionality can be written once in the parent class and shared with multiple child classes, reducing duplication and improving maintainability. Through inheritance, the child class can use the methods and attributes of the parent class as if they were its own. Additionally, the child class can also override parent class methods to provide its own specific implementation or extend functionality by adding new methods and attributes.\n",
        "\n",
        "ANSWER.7)\n",
        "Polymorphism in Object-Oriented Programming (OOP) is the ability of different objects to respond to the same method or function call in a way that is specific to their own class. The word comes from Greek, meaning “many forms,” and in programming, it allows the same interface to be used for different underlying data types or classes.\n",
        "\n",
        "ANSWER.8)\n",
        "Encapsulation in Python is achieved by restricting access to certain parts of an object, mainly its data (attributes), and controlling that access through methods. This is done using access modifiers and getter/setter methods.\n",
        "\n",
        "ANSWER.9)\n",
        "A constructor in Python is a special method called __init__(), which is automatically invoked when an object of a class is created. The primary purpose of a constructor is to initialize the newly created object with its initial state by setting values for its attributes. The __init__() method allows you to set the initial values of an object's attributes at the time of object creation. It does not return anything, as its sole purpose is to initialize the object.\n",
        "\n",
        "ANSWER.10)\n",
        "In Python, class methods and static methods are special methods that belong to a class rather than an instance of the class. They are defined using specific decorators and serve different purposes:\n",
        "Class Methods:\n",
        "A class method is a method that is bound to the class, not the instance. It is used to operate on the class itself, rather than individual instances of the class. Class methods are defined with the classmethod decorator.  It takes cls as the first argument, which refers to the class itself, not an instance. Class methods are typically used to create factory methods or methods that need to access or modify class-level attributes.\n",
        "Static Methods:\n",
        "A static method is a method that does not take self or cls as its first argument. It behaves like a regular function but belongs to the class's namespace. Static methods are used when you want to perform a task that is related to the class, but does not need access to the class or instance-specific data (i.e., does not need to modify the class or instance state).\n",
        "\n",
        "ANSWER.11)\n",
        "Method overloading in Python refers to the ability to define multiple methods with the same name but with different arguments. However, unlike some other programming languages (like Java or C++), Python does not support traditional method overloading directly. In Python, the last defined method with the same name will override any previous definitions.\n",
        "\n",
        "ANSWER.12)\n",
        "Method overriding in Object-Oriented Programming (OOP) occurs when a subclass provides its own implementation of a method that is already defined in its parent class. The method in the subclass has the same name, same parameters, and same return type as the method in the parent class. The subclass's method \"overrides\" the parent class's method, allowing the subclass to provide a specific behavior while still retaining the method signature.\n",
        "\n",
        "ANSWER.13)\n",
        "In Python, the property decorator is used to define a method as a getter for an attribute, allowing you to access it like an attribute (without needing parentheses for method calls). It allows you to manage how attributes are accessed or modified while keeping the interface clean and intuitive. The property decorator allows you to encapsulate logic for getting (or even setting or deleting) an attribute while still presenting it as a simple attribute access, which makes your code more maintainable and flexible.\n",
        "\n",
        "ANSWER.14)\n",
        "Polymorphism is a key concept in Object-Oriented Programming (OOP) that allows objects of different types to be treated in a uniform way, enabling methods to be called on objects without needing to know their specific class. This makes code more reusable, as a single method or function can operate on different objects, reducing duplication. Polymorphism enhances flexibility and extensibility, allowing new subclasses to be added without modifying existing code. It simplifies code maintenance by reducing the need for multiple conditionals to check for specific types, as the correct method is called based on the object type at runtime. Moreover, polymorphism encourages a more interface-driven design, where different classes implement common methods, fostering consistency and easier integration. Overall, polymorphism improves code organization, scalability, and maintainability by enabling dynamic and adaptable object behavior.\n",
        "\n",
        "ANSWER.15)\n",
        "An abstract class in Python is a class that cannot be instantiated directly. It serves as a blueprint for other classes. An abstract class is defined using the abc module (Abstract Base Class) and can contain abstract methods, which are methods that are declared but have no implementation in the abstract class itself. These methods must be implemented by any subclass that inherits from the abstract class. Abstract classes allow you to define a common interface (set of methods) that subclasses must implement. This helps to enforce a consistent structure across related classes, promoting a more organized and extensible design.\n",
        "\n",
        "ANSWER.16)\n",
        "Object-Oriented Programming (OOP) offers several advantages that contribute to the development of maintainable, scalable, and reusable software. Some of the key benefits of OOP include:\n",
        "1.Modularity and Reusability: OOP encourages breaking down a program into small, self-contained objects or classes, each representing a specific entity or concept.\n",
        "2. Encapsulation: Encapsulation allows the bundling of data and methods that operate on the data within a single unit (class).\n",
        "3. Inheritance: Inheritance enables new classes (subclasses) to inherit attributes and methods from existing classes (parent classes), promoting code reuse and extension.\n",
        "4. Polymorphism: Polymorphism allows objects of different types to be treated as instances of the same class through a shared interface, typically using method overriding or overloading.\n",
        "5. Maintainability: OOP makes it easier to maintain and update code over time.\n",
        "6. Scalability:OOP is well-suited for handling large and complex systems. As the software grows, the object-oriented structure allows for scalable development because it provides a clear structure with reusable, well-defined components.\n",
        "7. Abstraction: Abstraction in OOP allows you to hide complex implementation details and show only the necessary features of an object.\n",
        "\n",
        "ANSWER.17)\n",
        "A class variable is defined inside the class but outside of any methods, and it is shared by all instances of the class. This means that if one instance modifies the class variable, it affects all other instances, making it suitable for data that should be consistent across all objects.\n",
        "On the other hand, an instance variable is defined within the __init__ method (or any other method) using the self keyword and is unique to each instance of the class. Each object has its own copy of instance variables, and modifying one instance's variable does not affect others, making instance variables ideal for storing data specific to individual objects.\n",
        "\n",
        "ANSWER.18)\n",
        "Multiple inheritance in Python refers to the ability of a class to inherit from more than one base class. This allows a class to inherit attributes and methods from multiple parent classes, combining the functionality of all its ancestors. Python supports multiple inheritance, which means that a child class can inherit from more than one class, enabling a class to use features from multiple sources.\n",
        "\n",
        "ANSWER.19)\n",
        "In Python, both __str__ and __repr__ are special methods used to define how objects of a class are represented as strings, but they serve slightly different purposes:\n",
        "1. __str__ Method: The __str__ method is used to define the human-readable string representation of an object. It is called by the built-in str() function and is typically used for display purposes, such as when you print an object or convert it to a string for user-facing outputs.\n",
        "2. __repr__ Method: The __repr__ method is used to define the official string representation of an object. It is intended for developers and debugging purposes. When you call repr() or enter an object in the interpreter, Python looks for the __repr__ method to give a more detailed and formal string representation.\n",
        "\n",
        "ANSWER.20)\n",
        "The super() function in Python is used to call methods from a parent or superclass from within a child class. It provides a way to access the parent class's methods and properties, especially when working with inheritance. It is often used in the context of method overriding, where a child class overrides a method from its parent class but still wants to call the parent’s version of that method.\n",
        "ANSWER.21)\n",
        "The __del__ method in Python is a special method, also known as a destructor, which is called when an object is about to be destroyed, or when it is garbage collected. It allows you to define cleanup or resource release behavior for an object before it is removed from memory.\n",
        "ANSWER.22)\n",
        "In Python, both staticmethod and classmethod are used to define methods that are not bound to an instance of the class but instead are related to the class itself. However, there are key differences between the two in terms of how they interact with the class and its instances. Here's a detailed comparison:\n",
        "1. staticmethod:\n",
        "A staticmethod is a method that belongs to the class, but it does not have access to the class or the instance. It behaves like a regular function but resides inside a class. It does not take self (the instance) or cls (the class) as the first argument.It is used when you need a function that logically belongs to the class but doesn't require access to the instance or class data. It is essentially independent of the class and its instances.\n",
        "2. classmethod:\n",
        "A classmethod is a method that is bound to the class, not the instance. It takes cls as its first argument, which refers to the class itself, not an instance of the class. It has access to the class (via cls) but not to instance-specific data (i.e., it cannot access self unless explicitly passed an instance).It is used when you need to access or modify the class state (like class variables) but don’t need to work with instance data. It can also be used as an alternative constructor.\n",
        "\n",
        "ANSWER.23)\n",
        "Polymorphism in Python with inheritance allows different classes to define methods with the same name, and objects of these classes can be used interchangeably without knowing their specific class types. This makes code more flexible, reusable, and easier to maintain. In inheritance, polymorphism works by letting a child class override a method from its parent class, and then using that method in a uniform way across different subclasses.\n",
        "\n",
        "ANSWER.24)\n",
        "Method chaining in Python OOP is a programming technique where multiple methods are called on the same object in a single line, one after the other, using dot (.) notation. This is made possible by designing each method to return the object itself (self), allowing subsequent method calls to be chained together fluently.\n",
        "\n",
        "ANSWER.25)\n",
        "The __call__ method in Python is a special (or “dunder”) method that allows an instance of a class to be called like a function. When you define the __call__ method in a class, you enable its objects to be invoked using parentheses, just like you would call a regular function.\n",
        "\n",
        "Purpose of __call__:\n",
        "The main purpose of __call__ is to make an object behave like a function. This can be useful in a variety of scenarios, such as:\n",
        "•\tFunction wrappers or decorators implemented as classes\n",
        "•\tStateful function objects (also known as functors)\n",
        "•\tCustom behavior when the object is called directly\n"
      ],
      "metadata": {
        "id": "GFVd_yYt6eHU"
      }
    },
    {
      "cell_type": "code",
      "source": [
        "'''Create a parent class Animal with a method speak() that prints a generic message. Create a child class Dog\n",
        "that overrides the speak() method to print \"Bark!\".'''\n",
        "\n",
        "class Animal:\n",
        "    def speak(self):\n",
        "        print(\"Animal makes a sound\")\n",
        "\n",
        "class Dog(Animal):\n",
        "    def speak(self):\n",
        "        print(\"Bark!\")\n",
        "\n",
        "# Usage\n",
        "animal = Animal()\n",
        "animal.speak()\n",
        "\n",
        "dog = Dog()\n",
        "dog.speak()\n"
      ],
      "metadata": {
        "colab": {
          "base_uri": "https://localhost:8080/"
        },
        "id": "0ZVBLTCkd7ce",
        "outputId": "a4de51d6-9f40-4bc0-eb0e-fa37a3998fba"
      },
      "execution_count": null,
      "outputs": [
        {
          "output_type": "stream",
          "name": "stdout",
          "text": [
            "Animal makes a sound\n",
            "Bark!\n"
          ]
        }
      ]
    },
    {
      "cell_type": "code",
      "source": [
        "''' Write a program to create an abstract class Shape with a method area(). Derive classes Circle and Rectangle\n",
        "from it and implement the area() method in both.'''\n",
        "\n",
        "from abc import ABC, abstractmethod\n",
        "import math\n",
        "\n",
        "class Shape(ABC):\n",
        "    @abstractmethod\n",
        "    def area(self):\n",
        "        pass\n",
        "\n",
        "class Circle(Shape):\n",
        "    def __init__(self, radius):\n",
        "        self.radius = radius\n",
        "\n",
        "    def area(self):\n",
        "        return math.pi * self.radius ** 2\n",
        "\n",
        "class Rectangle(Shape):\n",
        "    def __init__(self, length, width):\n",
        "        self.length = length\n",
        "        self.width = width\n",
        "\n",
        "    def area(self):\n",
        "        return self.length * self.width\n",
        "\n",
        "circle = Circle(5)\n",
        "print(f\"Circle area: {circle.area():.2f}\")\n",
        "\n",
        "rectangle = Rectangle(4, 6)\n",
        "print(f\"Rectangle area: {rectangle.area()}\")\n",
        "\n",
        "\n"
      ],
      "metadata": {
        "colab": {
          "base_uri": "https://localhost:8080/"
        },
        "id": "YRGlWWW_eiQl",
        "outputId": "37656476-44b4-4af4-8505-7c7f53564ae3"
      },
      "execution_count": null,
      "outputs": [
        {
          "output_type": "stream",
          "name": "stdout",
          "text": [
            "Circle area: 78.54\n",
            "Rectangle area: 24\n"
          ]
        }
      ]
    },
    {
      "cell_type": "code",
      "source": [
        "''' Implement a multi-level inheritance scenario where a class Vehicle has an attribute type. Derive a class Car\n",
        "and further derive a class ElectricCar that adds a battery attribute.'''\n",
        "\n",
        "class Vehicle:\n",
        "    def __init__(self, type):\n",
        "        self.type = type\n",
        "\n",
        "class Car(Vehicle):\n",
        "    def __init__(self, type, brand):\n",
        "        super().__init__(type)\n",
        "        self.brand = brand\n",
        "\n",
        "class ElectricCar(Car):\n",
        "    def __init__(self, type, brand, battery):\n",
        "        super().__init__(type, brand)\n",
        "        self.battery = battery\n",
        "\n",
        "electric_car = ElectricCar(\"Electric\", \"Tesla\", \"100kWh\")\n",
        "print(f\"Type: {electric_car.type}, Brand: {electric_car.brand}, Battery: {electric_car.battery}\")"
      ],
      "metadata": {
        "colab": {
          "base_uri": "https://localhost:8080/"
        },
        "id": "_Y3NzOojfUC2",
        "outputId": "a91f4375-25a2-4e47-a6a6-26ccabfaaff4"
      },
      "execution_count": null,
      "outputs": [
        {
          "output_type": "stream",
          "name": "stdout",
          "text": [
            "Type: Electric, Brand: Tesla, Battery: 100kWh\n"
          ]
        }
      ]
    },
    {
      "cell_type": "code",
      "source": [
        "''' Demonstrate polymorphism by creating a base class Bird with a method fly(). Create two derived classes\n",
        "Sparrow and Penguin that override the fly() method.'''\n",
        "\n",
        "class Bird:\n",
        "    def fly(self):\n",
        "        print(\"Bird can fly\")\n",
        "\n",
        "class Sparrow(Bird):\n",
        "    def fly(self):\n",
        "        print(\"Sparrow flies fast\")\n",
        "\n",
        "class Penguin(Bird):\n",
        "    def fly(self):\n",
        "        print(\"Penguin cannot fly\")\n",
        "\n",
        "birds = [Bird(), Sparrow(), Penguin()]\n",
        "for bird in birds:\n",
        "    bird.fly()"
      ],
      "metadata": {
        "colab": {
          "base_uri": "https://localhost:8080/"
        },
        "id": "j782BZ83fp4v",
        "outputId": "6814a60d-d659-461e-cb98-ba2e50b8243e"
      },
      "execution_count": null,
      "outputs": [
        {
          "output_type": "stream",
          "name": "stdout",
          "text": [
            "Bird can fly\n",
            "Sparrow flies fast\n",
            "Penguin cannot fly\n"
          ]
        }
      ]
    },
    {
      "cell_type": "code",
      "source": [
        "''' Write a program to demonstrate encapsulation by creating a class BankAccount with private attributes\n",
        "balance and methods to deposit, withdraw, and check balance.'''\n",
        "\n",
        "class BankAccount:\n",
        "    def __init__(self):\n",
        "        self.__balance = 0\n",
        "\n",
        "    def deposit(self, amount):\n",
        "        if amount > 0:\n",
        "            self.__balance += amount\n",
        "            print(f\"Deposited {amount}. New balance: {self.__balance}\")\n",
        "\n",
        "    def withdraw(self, amount):\n",
        "        if 0 < amount <= self.__balance:\n",
        "            self.__balance -= amount\n",
        "            print(f\"Withdrew {amount}. New balance: {self.__balance}\")\n",
        "        else:\n",
        "            print(\"Insufficient funds or invalid amount\")\n",
        "\n",
        "    def check_balance(self):\n",
        "        print(f\"Current balance: {self.__balance}\")\n",
        "\n",
        "account = BankAccount()\n",
        "account.deposit(1000)\n",
        "account.withdraw(500)\n",
        "account.check_balance()\n",
        "\n",
        "\n"
      ],
      "metadata": {
        "colab": {
          "base_uri": "https://localhost:8080/"
        },
        "id": "acXpa24Xf7Ku",
        "outputId": "8bfbb1b5-27e2-486a-8169-fce68aefe5eb"
      },
      "execution_count": null,
      "outputs": [
        {
          "output_type": "stream",
          "name": "stdout",
          "text": [
            "Deposited 1000. New balance: 1000\n",
            "Withdrew 500. New balance: 500\n",
            "Current balance: 500\n"
          ]
        }
      ]
    },
    {
      "cell_type": "code",
      "source": [
        "''' Demonstrate runtime polymorphism using a method play() in a base class Instrument. Derive classes Guitar\n",
        "and Piano that implement their own version of play().'''\n",
        "\n",
        "class Instrument:\n",
        "    def play(self):\n",
        "        print(\"Instrument plays a sound\")\n",
        "\n",
        "class Guitar(Instrument):\n",
        "    def play(self):\n",
        "        print(\"Guitar strums\")\n",
        "\n",
        "class Piano(Instrument):\n",
        "    def play(self):\n",
        "        print(\"Piano keys play\")\n",
        "\n",
        "instruments = [Instrument(), Guitar(), Piano()]\n",
        "for instrument in instruments:\n",
        "    instrument.play()\n"
      ],
      "metadata": {
        "colab": {
          "base_uri": "https://localhost:8080/"
        },
        "id": "njo-RHeWgSMr",
        "outputId": "2bc9e03a-1b21-4bb1-c574-1ad0cc17d286"
      },
      "execution_count": null,
      "outputs": [
        {
          "output_type": "stream",
          "name": "stdout",
          "text": [
            "Instrument plays a sound\n",
            "Guitar strums\n",
            "Piano keys play\n"
          ]
        }
      ]
    },
    {
      "cell_type": "code",
      "source": [
        "''' Create a class MathOperations with a class method add_numbers() to add two numbers and a static\n",
        "method subtract_numbers() to subtract two numbers.'''\n",
        "\n",
        "class MathOperations:\n",
        "    @classmethod\n",
        "    def add_numbers(cls, a, b):\n",
        "        return a + b\n",
        "\n",
        "    @staticmethod\n",
        "    def subtract_numbers(a, b):\n",
        "        return a - b\n",
        "\n",
        "print(MathOperations.add_numbers(5, 3))\n",
        "print(MathOperations.subtract_numbers(10, 4))"
      ],
      "metadata": {
        "colab": {
          "base_uri": "https://localhost:8080/"
        },
        "id": "OL4lwr9RgqZK",
        "outputId": "3c32603f-ba33-4391-db44-5c8d906e2321"
      },
      "execution_count": null,
      "outputs": [
        {
          "output_type": "stream",
          "name": "stdout",
          "text": [
            "8\n",
            "6\n"
          ]
        }
      ]
    },
    {
      "cell_type": "code",
      "source": [
        "''' Implement a class Person with a class method to count the total number of persons created.'''\n",
        "\n",
        "class Person:\n",
        "    count = 0\n",
        "\n",
        "    def __init__(self, name):\n",
        "        self.name = name\n",
        "        Person.count += 1\n",
        "\n",
        "    @classmethod\n",
        "    def get_total_persons(cls):\n",
        "        return cls.count\n",
        "\n",
        "p1 = Person(\"Alice\")\n",
        "p2 = Person(\"Bob\")\n",
        "p3 = Person(\"Charlie\")\n",
        "print(f\"Total persons: {Person.get_total_persons()}\")\n",
        "\n"
      ],
      "metadata": {
        "colab": {
          "base_uri": "https://localhost:8080/"
        },
        "id": "OU9Ee0PDg8hy",
        "outputId": "b7c0f216-737c-4e7f-f76a-b6c7b663ddbb"
      },
      "execution_count": null,
      "outputs": [
        {
          "output_type": "stream",
          "name": "stdout",
          "text": [
            "Total persons: 3\n"
          ]
        }
      ]
    },
    {
      "cell_type": "code",
      "source": [
        "''' Write a class Fraction with attributes numerator and denominator. Override the str method to display the\n",
        "fraction as \"numerator/denominator\".'''\n",
        "\n",
        "class Fraction:\n",
        "    def __init__(self, numerator, denominator):\n",
        "        self.numerator = numerator\n",
        "        self.denominator = denominator\n",
        "\n",
        "    def __str__(self):\n",
        "        return f\"{self.numerator}/{self.denominator}\"\n",
        "\n",
        "fraction = Fraction(3, 4)\n",
        "print(fraction)"
      ],
      "metadata": {
        "colab": {
          "base_uri": "https://localhost:8080/"
        },
        "id": "SqEozt7-hSvX",
        "outputId": "114000fc-264b-4881-9ad4-ef8d5cdd56e1"
      },
      "execution_count": null,
      "outputs": [
        {
          "output_type": "stream",
          "name": "stdout",
          "text": [
            "3/4\n"
          ]
        }
      ]
    },
    {
      "cell_type": "code",
      "source": [
        "''' Demonstrate operator overloading by creating a class Vector and overriding the add method to add two\n",
        "vectors.'''\n",
        "\n",
        "class Vector:\n",
        "    def __init__(self, x, y):\n",
        "        self.x = x\n",
        "        self.y = y\n",
        "\n",
        "    def __add__(self, other):\n",
        "        return Vector(self.x + other.x, self.y + other.y)\n",
        "\n",
        "    def __str__(self):\n",
        "        return f\"Vector({self.x}, {self.y})\"\n",
        "\n",
        "v1 = Vector(2, 3)\n",
        "v2 = Vector(1, 4)\n",
        "result = v1 + v2\n",
        "print(result)"
      ],
      "metadata": {
        "colab": {
          "base_uri": "https://localhost:8080/"
        },
        "id": "uxFthW54hfaW",
        "outputId": "24aa3378-bb22-4de4-9623-5a4df80f30bb"
      },
      "execution_count": null,
      "outputs": [
        {
          "output_type": "stream",
          "name": "stdout",
          "text": [
            "Vector(3, 7)\n"
          ]
        }
      ]
    },
    {
      "cell_type": "code",
      "source": [
        "''' Create a class Person with attributes name and age. Add a method greet() that prints \"Hello, my name is\n",
        "{name} and I am {age} years old.\"'''\n",
        "\n",
        "class Person:\n",
        "    def __init__(self, name, age):\n",
        "        self.name = name\n",
        "        self.age = age\n",
        "\n",
        "    def greet(self):\n",
        "        print(f\"Hello, my name is {self.name} and I am {self.age} years old.\")\n",
        "\n",
        "person = Person(\"John\", 30)\n",
        "person.greet()"
      ],
      "metadata": {
        "colab": {
          "base_uri": "https://localhost:8080/"
        },
        "id": "7qAV2UlxjyiI",
        "outputId": "dea9be31-b904-4b20-e624-36a8d48be080"
      },
      "execution_count": null,
      "outputs": [
        {
          "output_type": "stream",
          "name": "stdout",
          "text": [
            "Hello, my name is John and I am 30 years old.\n"
          ]
        }
      ]
    },
    {
      "cell_type": "code",
      "source": [
        "'''. Implement a class Student with attributes name and grades. Create a method average_grade() to compute\n",
        "the average of the grades.'''\n",
        "\n",
        "class Student:\n",
        "    def __init__(self, name, grades):\n",
        "        self.name = name\n",
        "        self.grades = grades\n",
        "\n",
        "    def average_grade(self):\n",
        "        return sum(self.grades) / len(self.grades)\n",
        "\n",
        "student = Student(\"Alice\", [85, 90, 78, 92])\n",
        "print(f\"{student.name}'s average grade: {student.average_grade():.2f}\")"
      ],
      "metadata": {
        "colab": {
          "base_uri": "https://localhost:8080/"
        },
        "id": "2szOuJNAj_lQ",
        "outputId": "4358b3c7-8609-4eee-9dbd-9256d394cfb8"
      },
      "execution_count": null,
      "outputs": [
        {
          "output_type": "stream",
          "name": "stdout",
          "text": [
            "Alice's average grade: 86.25\n"
          ]
        }
      ]
    },
    {
      "cell_type": "code",
      "source": [
        "''' Create a class Rectangle with methods set_dimensions() to set the dimensions and area() to calculate the\n",
        "area.'''\n",
        "\n",
        "class Rectangle:\n",
        "    def set_dimensions(self, length, width):\n",
        "        self.length = length\n",
        "        self.width = width\n",
        "\n",
        "    def area(self):\n",
        "        return self.length * self.width\n",
        "\n",
        "rect = Rectangle()\n",
        "rect.set_dimensions(5, 7)\n",
        "print(f\"Rectangle area: {rect.area()}\")"
      ],
      "metadata": {
        "colab": {
          "base_uri": "https://localhost:8080/"
        },
        "id": "uZ-KlfmLkLzx",
        "outputId": "67b29a68-1141-4653-c913-06afd7ec09f9"
      },
      "execution_count": null,
      "outputs": [
        {
          "output_type": "stream",
          "name": "stdout",
          "text": [
            "Rectangle area: 35\n"
          ]
        }
      ]
    },
    {
      "cell_type": "code",
      "source": [
        "''' Create a class Employee with a method calculate_salary() that computes the salary based on hours worked\n",
        "and hourly rate. Create a derived class Manager that adds a bonus to the salary.'''\n",
        "\n",
        "class Employee:\n",
        "    def __init__(self, hours_worked, hourly_rate):\n",
        "        self.hours_worked = hours_worked\n",
        "        self.hourly_rate = hourly_rate\n",
        "\n",
        "    def calculate_salary(self):\n",
        "        return self.hours_worked * self.hourly_rate\n",
        "\n",
        "class Manager(Employee):\n",
        "    def __init__(self, hours_worked, hourly_rate, bonus):\n",
        "        super().__init__(hours_worked, hourly_rate)\n",
        "        self.bonus = bonus\n",
        "\n",
        "    def calculate_salary(self):\n",
        "        return super().calculate_salary() + self.bonus\n",
        "\n",
        "emp = Employee(40, 20)\n",
        "print(f\"Employee salary: ${emp.calculate_salary()}\")\n",
        "mgr = Manager(40, 20, 500)\n",
        "print(f\"Manager salary: ${mgr.calculate_salary()}\")"
      ],
      "metadata": {
        "colab": {
          "base_uri": "https://localhost:8080/"
        },
        "id": "gmlCP0t0kiZb",
        "outputId": "cad0538e-03f2-49b8-c2ee-c19954d4ff29"
      },
      "execution_count": null,
      "outputs": [
        {
          "output_type": "stream",
          "name": "stdout",
          "text": [
            "Employee salary: $800\n",
            "Manager salary: $1300\n"
          ]
        }
      ]
    },
    {
      "cell_type": "code",
      "source": [
        "'''Create a class Product with attributes name, price, and quantity. Implement a method total_price() that\n",
        "calculates the total price of the product.'''\n",
        "\n",
        "class Product:\n",
        "    def __init__(self, name, price, quantity):\n",
        "        self.name = name\n",
        "        self.price = price\n",
        "        self.quantity = quantity\n",
        "\n",
        "    def total_price(self):\n",
        "        return self.price * self.quantity\n",
        "\n",
        "product = Product(\"Laptop\", 999.99, 2)\n",
        "print(f\"Total price for {product.name}: ${product.total_price():.2f}\")"
      ],
      "metadata": {
        "colab": {
          "base_uri": "https://localhost:8080/"
        },
        "id": "LlNDlP5lkyrB",
        "outputId": "98aef800-c559-4d8a-878b-d9e5ec184d53"
      },
      "execution_count": null,
      "outputs": [
        {
          "output_type": "stream",
          "name": "stdout",
          "text": [
            "Total price for Laptop: $1999.98\n"
          ]
        }
      ]
    },
    {
      "cell_type": "code",
      "source": [
        "''' Create a class Animal with an abstract method sound(). Create two derived classes Cow and Sheep that\n",
        "implement the sound() method.'''\n",
        "\n",
        "from abc import ABC, abstractmethod\n",
        "\n",
        "class Animal(ABC):\n",
        "    @abstractmethod\n",
        "    def sound(self):\n",
        "        pass\n",
        "\n",
        "class Cow(Animal):\n",
        "    def sound(self):\n",
        "        return \"Moo\"\n",
        "\n",
        "class Sheep(Animal):\n",
        "    def sound(self):\n",
        "        return \"Baa\"\n",
        "\n",
        "cow = Cow()\n",
        "print(f\"Cow says: {cow.sound()}\")\n",
        "sheep = Sheep()\n",
        "print(f\"Sheep says: {sheep.sound()}\")"
      ],
      "metadata": {
        "colab": {
          "base_uri": "https://localhost:8080/"
        },
        "id": "WzBPAqhok96D",
        "outputId": "790392b6-23c8-4493-bb0e-36cd0d2a5b3b"
      },
      "execution_count": null,
      "outputs": [
        {
          "output_type": "stream",
          "name": "stdout",
          "text": [
            "Cow says: Moo\n",
            "Sheep says: Baa\n"
          ]
        }
      ]
    },
    {
      "cell_type": "code",
      "source": [
        "''' Create a class Book with attributes title, author, and year_published. Add a method get_book_info() that\n",
        "returns a formatted string with the book's details.'''\n",
        "\n",
        "class Book:\n",
        "    def __init__(self, title, author, year_published):\n",
        "        self.title = title\n",
        "        self.author = author\n",
        "        self.year_published = year_published\n",
        "\n",
        "    def get_book_info(self):\n",
        "        return f\"'{self.title}' by {self.author}, published in {self.year_published}\"\n",
        "\n",
        "book = Book(\"Python Crash Course\", \"Eric Matthes\", 2019)\n",
        "print(book.get_book_info())"
      ],
      "metadata": {
        "colab": {
          "base_uri": "https://localhost:8080/"
        },
        "id": "Dqm0RPatlSMx",
        "outputId": "a985d948-a689-445b-c13c-215f26df21ef"
      },
      "execution_count": null,
      "outputs": [
        {
          "output_type": "stream",
          "name": "stdout",
          "text": [
            "'Python Crash Course' by Eric Matthes, published in 2019\n"
          ]
        }
      ]
    },
    {
      "cell_type": "code",
      "source": [
        "''' Create a class House with attributes address and price. Create a derived class Mansion that adds an\n",
        "attribute number_of_rooms.'''\n",
        "\n",
        "class House:\n",
        "    def __init__(self, address, price):\n",
        "        self.address = address\n",
        "        self.price = price\n",
        "\n",
        "class Mansion(House):\n",
        "    def __init__(self, address, price, number_of_rooms):\n",
        "        super().__init__(address, price)\n",
        "        self.number_of_rooms = number_of_rooms\n",
        "\n",
        "mansion = Mansion(\"123 Rich Street\", 2500000, 12)\n",
        "print(f\"Address: {mansion.address}, Price: ${mansion.price:,}, Rooms: {mansion.number_of_rooms}\")"
      ],
      "metadata": {
        "colab": {
          "base_uri": "https://localhost:8080/"
        },
        "id": "veBsbmi_lcxT",
        "outputId": "9ec48710-ffa0-4351-e510-850bc28de54f"
      },
      "execution_count": null,
      "outputs": [
        {
          "output_type": "stream",
          "name": "stdout",
          "text": [
            "Address: 123 Rich Street, Price: $2,500,000, Rooms: 12\n"
          ]
        }
      ]
    }
  ],
  "metadata": {
    "colab": {
      "toc_visible": true,
      "provenance": []
    },
    "kernelspec": {
      "display_name": "Python 3",
      "name": "python3"
    }
  },
  "nbformat": 4,
  "nbformat_minor": 0
}